{
  "nbformat": 4,
  "nbformat_minor": 0,
  "metadata": {
    "colab": {
      "name": "Stock_predic.ipynb",
      "provenance": [],
      "collapsed_sections": []
    },
    "kernelspec": {
      "name": "python3",
      "display_name": "Python 3"
    }
  },
  "cells": [
    {
      "cell_type": "code",
      "metadata": {
        "colab": {
          "base_uri": "https://localhost:8080/"
        },
        "id": "-zka1QJ0oo21",
        "outputId": "4e98bc56-dc71-426b-c44a-b63c5efa3db5"
      },
      "source": [
        "pip install yfinance"
      ],
      "execution_count": null,
      "outputs": [
        {
          "output_type": "stream",
          "text": [
            "Collecting yfinance\n",
            "  Downloading https://files.pythonhosted.org/packages/a7/ee/315752b9ef281ba83c62aa7ec2e2074f85223da6e7e74efb4d3e11c0f510/yfinance-0.1.59.tar.gz\n",
            "Requirement already satisfied: pandas>=0.24 in /usr/local/lib/python3.7/dist-packages (from yfinance) (1.1.5)\n",
            "Requirement already satisfied: numpy>=1.15 in /usr/local/lib/python3.7/dist-packages (from yfinance) (1.19.5)\n",
            "Requirement already satisfied: requests>=2.20 in /usr/local/lib/python3.7/dist-packages (from yfinance) (2.23.0)\n",
            "Requirement already satisfied: multitasking>=0.0.7 in /usr/local/lib/python3.7/dist-packages (from yfinance) (0.0.9)\n",
            "Collecting lxml>=4.5.1\n",
            "\u001b[?25l  Downloading https://files.pythonhosted.org/packages/30/c0/d0526314971fc661b083ab135747dc68446a3022686da8c16d25fcf6ef07/lxml-4.6.3-cp37-cp37m-manylinux2014_x86_64.whl (6.3MB)\n",
            "\u001b[K     |████████████████████████████████| 6.3MB 31.2MB/s \n",
            "\u001b[?25hRequirement already satisfied: pytz>=2017.2 in /usr/local/lib/python3.7/dist-packages (from pandas>=0.24->yfinance) (2018.9)\n",
            "Requirement already satisfied: python-dateutil>=2.7.3 in /usr/local/lib/python3.7/dist-packages (from pandas>=0.24->yfinance) (2.8.1)\n",
            "Requirement already satisfied: chardet<4,>=3.0.2 in /usr/local/lib/python3.7/dist-packages (from requests>=2.20->yfinance) (3.0.4)\n",
            "Requirement already satisfied: certifi>=2017.4.17 in /usr/local/lib/python3.7/dist-packages (from requests>=2.20->yfinance) (2020.12.5)\n",
            "Requirement already satisfied: idna<3,>=2.5 in /usr/local/lib/python3.7/dist-packages (from requests>=2.20->yfinance) (2.10)\n",
            "Requirement already satisfied: urllib3!=1.25.0,!=1.25.1,<1.26,>=1.21.1 in /usr/local/lib/python3.7/dist-packages (from requests>=2.20->yfinance) (1.24.3)\n",
            "Requirement already satisfied: six>=1.5 in /usr/local/lib/python3.7/dist-packages (from python-dateutil>=2.7.3->pandas>=0.24->yfinance) (1.15.0)\n",
            "Building wheels for collected packages: yfinance\n",
            "  Building wheel for yfinance (setup.py) ... \u001b[?25l\u001b[?25hdone\n",
            "  Created wheel for yfinance: filename=yfinance-0.1.59-py2.py3-none-any.whl size=23442 sha256=addfa28f893bfb597aaac59fda54f7b8cde1d6a3c6db9894bf88464e9b0c3e00\n",
            "  Stored in directory: /root/.cache/pip/wheels/f8/2a/0f/4b5a86e1d52e451757eb6bc17fd899629f0925c777741b6d04\n",
            "Successfully built yfinance\n",
            "Installing collected packages: lxml, yfinance\n",
            "  Found existing installation: lxml 4.2.6\n",
            "    Uninstalling lxml-4.2.6:\n",
            "      Successfully uninstalled lxml-4.2.6\n",
            "Successfully installed lxml-4.6.3 yfinance-0.1.59\n"
          ],
          "name": "stdout"
        }
      ]
    },
    {
      "cell_type": "code",
      "metadata": {
        "colab": {
          "base_uri": "https://localhost:8080/"
        },
        "id": "8W2gxhWHo525",
        "outputId": "e485713b-fc55-4f90-fd24-b75542de895d"
      },
      "source": [
        "pip install finta"
      ],
      "execution_count": null,
      "outputs": [
        {
          "output_type": "stream",
          "text": [
            "Collecting finta\n",
            "  Downloading https://files.pythonhosted.org/packages/06/8b/94331e5e8f4e6ba2690658d4a65db0a254a89117756337316ce8f6b2026b/finta-1.3-py3-none-any.whl\n",
            "Requirement already satisfied: pandas in /usr/local/lib/python3.7/dist-packages (from finta) (1.1.5)\n",
            "Requirement already satisfied: numpy in /usr/local/lib/python3.7/dist-packages (from finta) (1.19.5)\n",
            "Requirement already satisfied: pytz>=2017.2 in /usr/local/lib/python3.7/dist-packages (from pandas->finta) (2018.9)\n",
            "Requirement already satisfied: python-dateutil>=2.7.3 in /usr/local/lib/python3.7/dist-packages (from pandas->finta) (2.8.1)\n",
            "Requirement already satisfied: six>=1.5 in /usr/local/lib/python3.7/dist-packages (from python-dateutil>=2.7.3->pandas->finta) (1.15.0)\n",
            "Installing collected packages: finta\n",
            "Successfully installed finta-1.3\n"
          ],
          "name": "stdout"
        }
      ]
    },
    {
      "cell_type": "code",
      "metadata": {
        "colab": {
          "base_uri": "https://localhost:8080/"
        },
        "id": "hTGBPRtwtX8z",
        "outputId": "7bfd890c-2ea8-4587-8046-d889143a2f9b"
      },
      "source": [
        "pip install Yahoo-ticker-downloader\n"
      ],
      "execution_count": null,
      "outputs": [
        {
          "output_type": "stream",
          "text": [
            "Collecting Yahoo-ticker-downloader\n",
            "  Downloading https://files.pythonhosted.org/packages/26/c6/012180ba63223f39bfea186f04e19840381a9bc22a2fc15a7aecb0b8d90d/Yahoo-ticker-downloader-3.0.1.tar.gz\n",
            "Requirement already satisfied: requests>=2.4.3 in /usr/local/lib/python3.7/dist-packages (from Yahoo-ticker-downloader) (2.23.0)\n",
            "Collecting tablib>=0.9.11\n",
            "\u001b[?25l  Downloading https://files.pythonhosted.org/packages/16/85/078fc037b15aa1120d6a0287ec9d092d93d632ab01a0e7a3e69b4733da5e/tablib-3.0.0-py3-none-any.whl (47kB)\n",
            "\u001b[K     |████████████████████████████████| 51kB 6.9MB/s \n",
            "\u001b[?25hCollecting backports.csv>=1.0.4\n",
            "  Downloading https://files.pythonhosted.org/packages/8e/26/a6bd68f13e0f38fbb643d6e497fc3462be83a0b6c4d43425c78bb51a7291/backports.csv-1.0.7-py2.py3-none-any.whl\n",
            "Requirement already satisfied: chardet<4,>=3.0.2 in /usr/local/lib/python3.7/dist-packages (from requests>=2.4.3->Yahoo-ticker-downloader) (3.0.4)\n",
            "Requirement already satisfied: urllib3!=1.25.0,!=1.25.1,<1.26,>=1.21.1 in /usr/local/lib/python3.7/dist-packages (from requests>=2.4.3->Yahoo-ticker-downloader) (1.24.3)\n",
            "Requirement already satisfied: idna<3,>=2.5 in /usr/local/lib/python3.7/dist-packages (from requests>=2.4.3->Yahoo-ticker-downloader) (2.10)\n",
            "Requirement already satisfied: certifi>=2017.4.17 in /usr/local/lib/python3.7/dist-packages (from requests>=2.4.3->Yahoo-ticker-downloader) (2020.12.5)\n",
            "Building wheels for collected packages: Yahoo-ticker-downloader\n",
            "  Building wheel for Yahoo-ticker-downloader (setup.py) ... \u001b[?25l\u001b[?25hdone\n",
            "  Created wheel for Yahoo-ticker-downloader: filename=Yahoo_ticker_downloader-3.0.1-cp37-none-any.whl size=10184 sha256=45f53199093835924927cd0bc6de01b5f1115c86455fa9ff5ca96777b1e4d460\n",
            "  Stored in directory: /root/.cache/pip/wheels/8f/8c/49/2f945a8ef86a6301584099c6a92ec9b40498e497517abb01a0\n",
            "Successfully built Yahoo-ticker-downloader\n",
            "Installing collected packages: tablib, backports.csv, Yahoo-ticker-downloader\n",
            "Successfully installed Yahoo-ticker-downloader-3.0.1 backports.csv-1.0.7 tablib-3.0.0\n"
          ],
          "name": "stdout"
        }
      ]
    },
    {
      "cell_type": "code",
      "metadata": {
        "id": "qcEK29F4oNmu"
      },
      "source": [
        "import yfinance as yf\n",
        "import datetime\n",
        "import pandas as pd\n",
        "import numpy as np\n",
        "from finta import TA\n",
        "import matplotlib.pyplot as plt\n",
        "\n",
        "from sklearn import svm\n",
        "from sklearn.ensemble import RandomForestClassifier\n",
        "from sklearn.neighbors import KNeighborsClassifier\n",
        "from sklearn.ensemble import AdaBoostClassifier\n",
        "from sklearn.ensemble import GradientBoostingClassifier\n",
        "from sklearn.ensemble import VotingClassifier\n",
        "from sklearn.model_selection import train_test_split, GridSearchCV\n",
        "from sklearn.metrics import confusion_matrix, classification_report\n",
        "from sklearn import metrics\n",
        "from googlesearch import search"
      ],
      "execution_count": null,
      "outputs": []
    },
    {
      "cell_type": "code",
      "metadata": {
        "colab": {
          "base_uri": "https://localhost:8080/"
        },
        "id": "qADBOyoKtidq",
        "outputId": "21aa1c34-e3a2-4529-fc7c-6c84dfc138ea"
      },
      "source": [
        "company_name=input(\"Enter a company name: \")\n"
      ],
      "execution_count": null,
      "outputs": [
        {
          "output_type": "stream",
          "text": [
            "Enter a company name: sbi\n"
          ],
          "name": "stdout"
        }
      ]
    },
    {
      "cell_type": "code",
      "metadata": {
        "colab": {
          "base_uri": "https://localhost:8080/"
        },
        "id": "zKp91CpQvt70",
        "outputId": "08bed18b-8468-44a7-b1c7-569e00655ffe"
      },
      "source": [
        "searchval = 'yahoo finance '+company_name\n",
        "link = []\n",
        "#limits to the first link\n",
        "for url in search(searchval, tld='es', lang='es', stop=1):\n",
        "  link.append(url)\n",
        "  \n",
        "link = str(link[0])\n",
        "link=link.split(\"/\")\n",
        "if link[-1]=='':\n",
        "  ticker=link[-2]\n",
        "else:\n",
        "  x=link[-1].split('=')\n",
        "  ticker=x[-1]\n",
        "symbol=ticker\n",
        "print(symbol)"
      ],
      "execution_count": null,
      "outputs": [
        {
          "output_type": "stream",
          "text": [
            "SBIN.NS\n"
          ],
          "name": "stdout"
        }
      ]
    },
    {
      "cell_type": "code",
      "metadata": {
        "id": "dywoj4oUoSQi"
      },
      "source": [
        "NUM_DAYS = 10000     # The number of days of historical data to retrieve\n",
        "INTERVAL = '1d'     # Sample rate of historical data\n",
        "\n",
        "INDICATORS = ['RSI', 'MACD', 'STOCH','ADL', 'ATR', 'MOM', 'MFI', 'ROC', 'OBV', 'CCI', 'EMV', 'VORTEX']"
      ],
      "execution_count": null,
      "outputs": []
    },
    {
      "cell_type": "code",
      "metadata": {
        "colab": {
          "base_uri": "https://localhost:8080/"
        },
        "id": "sMTmKq7spXqw",
        "outputId": "2db96199-968a-4fc3-cf8a-64fa45423755"
      },
      "source": [
        "start = (datetime.date.today() - datetime.timedelta( NUM_DAYS ) )\n",
        "end = datetime.datetime.today()\n",
        "\n",
        "data = yf.download(symbol, start=start, end=end, interval=INTERVAL)\n",
        "data.rename(columns={\"Close\": 'close', \"High\": 'high', \"Low\": 'low', 'Volume': 'volume', 'Open': 'open'}, inplace=True)\n",
        "\n",
        "print(data['close'])\n"
      ],
      "execution_count": null,
      "outputs": [
        {
          "output_type": "stream",
          "text": [
            "\r[*********************100%***********************]  1 of 1 completed\n",
            "Date\n",
            "1996-01-01     18.823240\n",
            "1996-01-02     18.224106\n",
            "1996-01-03     17.738192\n",
            "1996-01-04     17.676863\n",
            "1996-01-05     17.577793\n",
            "                 ...    \n",
            "2021-05-24    412.049988\n",
            "2021-05-25    412.350006\n",
            "2021-05-26    413.549988\n",
            "2021-05-27    425.200012\n",
            "2021-05-28    422.049988\n",
            "Name: close, Length: 6387, dtype: float64\n"
          ],
          "name": "stdout"
        }
      ]
    },
    {
      "cell_type": "code",
      "metadata": {
        "id": "lW99E2cyZZGf",
        "colab": {
          "base_uri": "https://localhost:8080/",
          "height": 350
        },
        "outputId": "a4be0bd8-195f-48c7-90f3-5639346f2cf2"
      },
      "source": [
        "import matplotlib.pyplot as plt\n",
        "plt.figure(figsize=(10,5))\n",
        "plt.title('Close Price History')\n",
        "plt.plot(data['close'])\n",
        "plt.xlabel('Date')\n",
        "plt.ylabel('Close Price')\n",
        "plt.show()"
      ],
      "execution_count": null,
      "outputs": [
        {
          "output_type": "display_data",
          "data": {
            "image/png": "[encoded data removed]",
            "text/plain": [
              "<Figure size 720x360 with 1 Axes>"
            ]
          },
          "metadata": {
            "tags": [],
            "needs_background": "light"
          }
        }
      ]
    },
    {
      "cell_type": "code",
      "metadata": {
        "id": "1hdnsRXgbvq1"
      },
      "source": [
        "data.to_csv('f1.csv')"
      ],
      "execution_count": null,
      "outputs": []
    },
    {
      "cell_type": "code",
      "metadata": {
        "id": "0z3x2kWecbzQ"
      },
      "source": [
        "df=pd.read_csv('f1.csv')"
      ],
      "execution_count": null,
      "outputs": []
    },
    {
      "cell_type": "code",
      "metadata": {
        "colab": {
          "base_uri": "https://localhost:8080/",
          "height": 415
        },
        "id": "nBtdjEqBckeD",
        "outputId": "81c1f95d-2719-496a-9d39-6400aa5cf172"
      },
      "source": [
        "df"
      ],
      "execution_count": null,
      "outputs": [
        {
          "output_type": "execute_result",
          "data": {
            "text/html": [
              "<div>\n",
              "<style scoped>\n",
              "    .dataframe tbody tr th:only-of-type {\n",
              "        vertical-align: middle;\n",
              "    }\n",
              "\n",
              "    .dataframe tbody tr th {\n",
              "        vertical-align: top;\n",
              "    }\n",
              "\n",
              "    .dataframe thead th {\n",
              "        text-align: right;\n",
              "    }\n",
              "</style>\n",
              "<table border=\"1\" class=\"dataframe\">\n",
              "  <thead>\n",
              "    <tr style=\"text-align: right;\">\n",
              "      <th></th>\n",
              "      <th>Date</th>\n",
              "      <th>open</th>\n",
              "      <th>high</th>\n",
              "      <th>low</th>\n",
              "      <th>close</th>\n",
              "      <th>Adj Close</th>\n",
              "      <th>volume</th>\n",
              "    </tr>\n",
              "  </thead>\n",
              "  <tbody>\n",
              "    <tr>\n",
              "      <th>0</th>\n",
              "      <td>1996-01-01</td>\n",
              "      <td>18.691147</td>\n",
              "      <td>18.978922</td>\n",
              "      <td>18.540184</td>\n",
              "      <td>18.823240</td>\n",
              "      <td>12.967147</td>\n",
              "      <td>43733533</td>\n",
              "    </tr>\n",
              "    <tr>\n",
              "      <th>1</th>\n",
              "      <td>1996-01-02</td>\n",
              "      <td>18.894005</td>\n",
              "      <td>18.964767</td>\n",
              "      <td>17.738192</td>\n",
              "      <td>18.224106</td>\n",
              "      <td>12.554412</td>\n",
              "      <td>56167280</td>\n",
              "    </tr>\n",
              "    <tr>\n",
              "      <th>2</th>\n",
              "      <td>1996-01-03</td>\n",
              "      <td>18.327892</td>\n",
              "      <td>18.568489</td>\n",
              "      <td>17.643839</td>\n",
              "      <td>17.738192</td>\n",
              "      <td>12.219668</td>\n",
              "      <td>68296318</td>\n",
              "    </tr>\n",
              "    <tr>\n",
              "      <th>3</th>\n",
              "      <td>1996-01-04</td>\n",
              "      <td>17.502312</td>\n",
              "      <td>17.832542</td>\n",
              "      <td>17.223972</td>\n",
              "      <td>17.676863</td>\n",
              "      <td>12.177420</td>\n",
              "      <td>86073880</td>\n",
              "    </tr>\n",
              "    <tr>\n",
              "      <th>4</th>\n",
              "      <td>1996-01-05</td>\n",
              "      <td>17.738192</td>\n",
              "      <td>17.785366</td>\n",
              "      <td>17.459852</td>\n",
              "      <td>17.577793</td>\n",
              "      <td>12.109170</td>\n",
              "      <td>76613039</td>\n",
              "    </tr>\n",
              "    <tr>\n",
              "      <th>...</th>\n",
              "      <td>...</td>\n",
              "      <td>...</td>\n",
              "      <td>...</td>\n",
              "      <td>...</td>\n",
              "      <td>...</td>\n",
              "      <td>...</td>\n",
              "      <td>...</td>\n",
              "    </tr>\n",
              "    <tr>\n",
              "      <th>6382</th>\n",
              "      <td>2021-05-24</td>\n",
              "      <td>417.000000</td>\n",
              "      <td>419.200012</td>\n",
              "      <td>405.299988</td>\n",
              "      <td>412.049988</td>\n",
              "      <td>412.049988</td>\n",
              "      <td>142964052</td>\n",
              "    </tr>\n",
              "    <tr>\n",
              "      <th>6383</th>\n",
              "      <td>2021-05-25</td>\n",
              "      <td>415.100006</td>\n",
              "      <td>415.500000</td>\n",
              "      <td>408.500000</td>\n",
              "      <td>412.350006</td>\n",
              "      <td>412.350006</td>\n",
              "      <td>56048127</td>\n",
              "    </tr>\n",
              "    <tr>\n",
              "      <th>6384</th>\n",
              "      <td>2021-05-26</td>\n",
              "      <td>413.799988</td>\n",
              "      <td>418.750000</td>\n",
              "      <td>410.799988</td>\n",
              "      <td>413.549988</td>\n",
              "      <td>413.549988</td>\n",
              "      <td>52357719</td>\n",
              "    </tr>\n",
              "    <tr>\n",
              "      <th>6385</th>\n",
              "      <td>2021-05-27</td>\n",
              "      <td>413.700012</td>\n",
              "      <td>429.100006</td>\n",
              "      <td>412.000000</td>\n",
              "      <td>425.200012</td>\n",
              "      <td>425.200012</td>\n",
              "      <td>73392997</td>\n",
              "    </tr>\n",
              "    <tr>\n",
              "      <th>6386</th>\n",
              "      <td>2021-05-28</td>\n",
              "      <td>430.500000</td>\n",
              "      <td>433.649994</td>\n",
              "      <td>420.049988</td>\n",
              "      <td>422.049988</td>\n",
              "      <td>422.049988</td>\n",
              "      <td>65137568</td>\n",
              "    </tr>\n",
              "  </tbody>\n",
              "</table>\n",
              "<p>6387 rows × 7 columns</p>\n",
              "</div>"
            ],
            "text/plain": [
              "            Date        open        high  ...       close   Adj Close     volume\n",
              "0     1996-01-01   18.691147   18.978922  ...   18.823240   12.967147   43733533\n",
              "1     1996-01-02   18.894005   18.964767  ...   18.224106   12.554412   56167280\n",
              "2     1996-01-03   18.327892   18.568489  ...   17.738192   12.219668   68296318\n",
              "3     1996-01-04   17.502312   17.832542  ...   17.676863   12.177420   86073880\n",
              "4     1996-01-05   17.738192   17.785366  ...   17.577793   12.109170   76613039\n",
              "...          ...         ...         ...  ...         ...         ...        ...\n",
              "6382  2021-05-24  417.000000  419.200012  ...  412.049988  412.049988  142964052\n",
              "6383  2021-05-25  415.100006  415.500000  ...  412.350006  412.350006   56048127\n",
              "6384  2021-05-26  413.799988  418.750000  ...  413.549988  413.549988   52357719\n",
              "6385  2021-05-27  413.700012  429.100006  ...  425.200012  425.200012   73392997\n",
              "6386  2021-05-28  430.500000  433.649994  ...  422.049988  422.049988   65137568\n",
              "\n",
              "[6387 rows x 7 columns]"
            ]
          },
          "metadata": {
            "tags": []
          },
          "execution_count": 12
        }
      ]
    },
    {
      "cell_type": "code",
      "metadata": {
        "colab": {
          "base_uri": "https://localhost:8080/",
          "height": 445
        },
        "id": "PyOzX9Myjqyb",
        "outputId": "1b919b64-5815-4dd8-d0b5-cc46a86abb2c"
      },
      "source": [
        "#setting index as date\n",
        "df['Date'] = pd.to_datetime(df.Date, format='%Y-%m-%d')\n",
        "df.index = df['Date']\n",
        "\n",
        "#plot\n",
        "plt.figure(figsize=(16, 8))\n",
        "plt.plot(df['close'], label='Close Price history')\n",
        "plt.plot(df['high'], label='High Price history')\n",
        "plt.legend()\n",
        "plt.show()"
      ],
      "execution_count": null,
      "outputs": [
        {
          "output_type": "display_data",
          "data": {
            "image/png": "[encoded data removed]",
            "text/plain": [
              "<Figure size 1152x576 with 1 Axes>"
            ]
          },
          "metadata": {
            "tags": [],
            "needs_background": "light"
          }
        }
      ]
    },
    {
      "cell_type": "code",
      "metadata": {
        "id": "WfJ1bO3Dj5g0"
      },
      "source": [
        "#sorting \n",
        "data = df.sort_index(ascending=True, axis=0)\n",
        "\n",
        "#creating a separate dataset\n",
        "new_data = pd.DataFrame(index=range(0, len(df)), columns=['Date','close'])\n",
        "\n",
        "for i in range(0, len(data)):\n",
        "    new_data['Date'][i] = data['Date'][i]\n",
        "    new_data['close'][i] = data['close'][i]"
      ],
      "execution_count": null,
      "outputs": []
    },
    {
      "cell_type": "code",
      "metadata": {
        "colab": {
          "base_uri": "https://localhost:8080/"
        },
        "id": "MCliKfhLlxaO",
        "outputId": "568804b2-bf0d-42a9-804c-f4158501b8fe"
      },
      "source": [
        "new_data.Date"
      ],
      "execution_count": null,
      "outputs": [
        {
          "output_type": "execute_result",
          "data": {
            "text/plain": [
              "0       1996-01-01 00:00:00\n",
              "1       1996-01-02 00:00:00\n",
              "2       1996-01-03 00:00:00\n",
              "3       1996-01-04 00:00:00\n",
              "4       1996-01-05 00:00:00\n",
              "               ...         \n",
              "6382    2021-05-24 00:00:00\n",
              "6383    2021-05-25 00:00:00\n",
              "6384    2021-05-26 00:00:00\n",
              "6385    2021-05-27 00:00:00\n",
              "6386    2021-05-28 00:00:00\n",
              "Name: Date, Length: 6387, dtype: object"
            ]
          },
          "metadata": {
            "tags": []
          },
          "execution_count": 15
        }
      ]
    },
    {
      "cell_type": "code",
      "metadata": {
        "id": "6xyRb6bOkYZ0"
      },
      "source": [
        "from sklearn.preprocessing import MinMaxScaler\n",
        "scaler = MinMaxScaler(feature_range=(0, 1))"
      ],
      "execution_count": null,
      "outputs": []
    },
    {
      "cell_type": "code",
      "metadata": {
        "colab": {
          "base_uri": "https://localhost:8080/"
        },
        "id": "sBYq36kCkCt2",
        "outputId": "3d47a7b8-410f-45d8-d0e4-361020a83b05"
      },
      "source": [
        "from keras.models import Sequential\n",
        "from keras.layers import Dense, Dropout, LSTM\n",
        "\n",
        "#setting index\n",
        "new_data.index = new_data.Date\n",
        "new_data.drop('Date', axis=1, inplace=True)\n",
        "\n",
        "\n",
        "#creating train and test sets\n",
        "dataset = new_data.values\n",
        "\n",
        "train = dataset[0:4000, :]\n",
        "valid = dataset[4000:, :]\n",
        "\n",
        "#converting dataset into x_train and y_train\n",
        "scaler = MinMaxScaler(feature_range=(0, 1))\n",
        "scaled_data = scaler.fit_transform(dataset)\n",
        "\n",
        "x_train, y_train = [], []\n",
        "for i in range(60, len(train)):\n",
        "    x_train.append(scaled_data[i-60:i,0])\n",
        "    y_train.append(scaled_data[i,0])\n",
        "    \n",
        "x_train, y_train = np.array(x_train), np.array(y_train)\n",
        "\n",
        "x_train = np.reshape(x_train, (x_train.shape[0], x_train.shape[1],1))\n",
        "\n",
        "#create and fit the LSTM network\n",
        "model = Sequential()\n",
        "model.add(LSTM(units=50, return_sequences=True, input_shape=(x_train.shape[1],1)))\n",
        "model.add(LSTM(units=50))\n",
        "model.add(Dense(1))\n",
        "\n",
        "model.compile(loss='mean_squared_error', optimizer='adam')\n",
        "model.fit(x_train, y_train, epochs=2, batch_size=1, verbose=2)\n"
      ],
      "execution_count": null,
      "outputs": [
        {
          "output_type": "stream",
          "text": [
            "Epoch 1/2\n",
            "3940/3940 - 91s - loss: 5.9573e-04\n",
            "Epoch 2/2\n",
            "3940/3940 - 75s - loss: 2.0126e-04\n"
          ],
          "name": "stdout"
        },
        {
          "output_type": "execute_result",
          "data": {
            "text/plain": [
              "<keras.callbacks.History at 0x7f1cb8555890>"
            ]
          },
          "metadata": {
            "tags": []
          },
          "execution_count": 17
        }
      ]
    },
    {
      "cell_type": "code",
      "metadata": {
        "id": "8DnZYsjioe-3"
      },
      "source": [
        "inputs = new_data[len(new_data) - len(valid) - 60:].values\n",
        "inputs = scaler.transform(inputs)\n",
        "\n",
        "X_test = []\n",
        "for i in range(60, inputs.shape[0]):\n",
        "    X_test.append(inputs[i-60:i, 0])\n",
        "\n",
        "X_test = np.array(X_test)\n",
        "from numpy import newaxis\n",
        "X_test = X_test[:, :, newaxis]\n",
        "\n",
        "closing_price = model.predict(X_test)\n",
        "closing_price = scaler.inverse_transform(closing_price)"
      ],
      "execution_count": null,
      "outputs": []
    },
    {
      "cell_type": "code",
      "metadata": {
        "colab": {
          "base_uri": "https://localhost:8080/"
        },
        "id": "D36XhTVnmuR2",
        "outputId": "43d9054b-bc2b-4093-caaf-abba7d38def3"
      },
      "source": [
        "rms = np.sqrt(np.mean(np.power((valid-closing_price),2)))\n",
        "print(rms)"
      ],
      "execution_count": null,
      "outputs": [
        {
          "output_type": "stream",
          "text": [
            "11.726671650854847\n"
          ],
          "name": "stdout"
        }
      ]
    },
    {
      "cell_type": "code",
      "metadata": {
        "colab": {
          "base_uri": "https://localhost:8080/",
          "height": 389
        },
        "id": "dxmymgnSmyiS",
        "outputId": "fe50fd70-3a9a-486f-865c-a0abdae14696"
      },
      "source": [
        "#for plotting\n",
        "train = new_data[:4000]\n",
        "valid = new_data[4000:]\n",
        "valid['Predictions'] = closing_price\n",
        "plt.plot(new_data['close'],label='actual',color = 'green')\n",
        "plt.plot(valid['Predictions'],label='prediction',color = 'blue')\n",
        "plt.show()"
      ],
      "execution_count": null,
      "outputs": [
        {
          "output_type": "stream",
          "text": [
            "/usr/local/lib/python3.7/dist-packages/ipykernel_launcher.py:4: SettingWithCopyWarning: \n",
            "A value is trying to be set on a copy of a slice from a DataFrame.\n",
            "Try using .loc[row_indexer,col_indexer] = value instead\n",
            "\n",
            "See the caveats in the documentation: https://pandas.pydata.org/pandas-docs/stable/user_guide/indexing.html#returning-a-view-versus-a-copy\n",
            "  after removing the cwd from sys.path.\n"
          ],
          "name": "stderr"
        },
        {
          "output_type": "display_data",
          "data": {
            "image/png": "[encoded data removed]",
            "text/plain": [
              "<Figure size 432x288 with 1 Axes>"
            ]
          },
          "metadata": {
            "tags": [],
            "needs_background": "light"
          }
        }
      ]
    }
  ]
}